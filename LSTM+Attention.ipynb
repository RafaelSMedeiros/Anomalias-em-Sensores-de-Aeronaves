{
  "cells": [
    {
      "cell_type": "code",
      "execution_count": null,
      "metadata": {
        "id": "fgQOvnK7sh2q"
      },
      "outputs": [],
      "source": [
        "import os\n",
        "import numpy as np\n",
        "from keras.layers import Input, Dense, Attention\n",
        "from keras.layers import Input, Dense, LSTM, Reshape\n",
        "from keras.models import Model\n",
        "from IPython.display import SVG, clear_output\n",
        "\n",
        "import keras.callbacks\n",
        "import keras.backend as K\n",
        "K.set_image_data_format('channels_last')\n",
        "import matplotlib.pyplot as plt\n",
        "\n",
        "%matplotlib inline"
      ]
    },
    {
      "cell_type": "code",
      "execution_count": null,
      "metadata": {
        "colab": {
          "base_uri": "https://localhost:8080/"
        },
        "id": "RM8HGKzjySno",
        "outputId": "ff77d263-abdc-4580-e2b7-225211e90d06"
      },
      "outputs": [],
      "source": [
        "# !ls\n",
        "trainPath = 'train_FD002.txt'\n",
        "testPath = 'test_FD002.txt'\n",
        "rulPath = 'RUL_FD002.txt'"
      ]
    },
    {
      "cell_type": "code",
      "execution_count": null,
      "metadata": {
        "id": "RrYG09dBtaKB"
      },
      "outputs": [],
      "source": [
        "def sliding_window(data, N_tw = 30, stride = 1):\n",
        "    N_en = np.unique(data[:,0]).shape[0]                            \n",
        "    m = 0\n",
        "    for i in range(N_en):\n",
        "        n_H   = data[data[:,0] == i+1,0].shape[0]\n",
        "        N_sw  = int((n_H- N_tw) / stride + 1)                       \n",
        "        for h in range(N_sw):\n",
        "            m = m + 1    \n",
        "    return m, N_en        "
      ]
    },
    {
      "cell_type": "code",
      "execution_count": null,
      "metadata": {
        "colab": {
          "base_uri": "https://localhost:8080/"
        },
        "id": "KIn19qmwtgHl",
        "outputId": "38259bee-e93c-48bc-8b55-13262da5f260"
      },
      "outputs": [],
      "source": [
        "train_set=np.loadtxt(trainPath)  # Training set\n",
        "train_set_cXX = train_set[:,np.array([1])] \n",
        "train_set_cXX"
      ]
    },
    {
      "cell_type": "code",
      "execution_count": null,
      "metadata": {
        "id": "DsMEkQccthdO"
      },
      "outputs": [],
      "source": [
        "def load_dataset(N_tw, stride, sel, R_early):\n",
        "    # Load training data\n",
        "    train_set=np.loadtxt(trainPath)  # Training set\n",
        "    train_set_x_org = train_set[:,sel]                              \n",
        "    train_set_c     = train_set[:,np.array([1])]                   \n",
        "    \n",
        "    # Normalize the data\n",
        "    ub = train_set_x_org.max(0)\n",
        "    lb = train_set_x_org.min(0)    \n",
        "    train_set_x = 2 * (train_set_x_org - lb) / (ub - lb) - 1   \n",
        "   \n",
        "    N_ft    = sel.shape[0]                                           \n",
        "    m, N_en = sliding_window(train_set, N_tw, stride)               \n",
        "    \n",
        "    train_x = np.empty((m, N_tw, N_ft, 1), float)\n",
        "    train_y = np.empty((m, 1), float)\n",
        "    \n",
        "    k = 0\n",
        "    for i in range(N_en):\n",
        "        idx       = train_set[:,0] == i+1                           \n",
        "        train_i_x = train_set_x[idx,:]                              \n",
        "        train_i_c = train_set_c[idx]                                \n",
        "        train_i_y = train_i_c[-1] - train_i_c                       \n",
        "        train_i_y[train_i_y > R_early] = R_early                    \n",
        "        N_sw      = int((train_i_x.shape[0] - N_tw) / stride + 1)   \n",
        "        for h in range(N_sw):\n",
        "            k = k + 1\n",
        "            vert_start = h * stride\n",
        "            vert_end   = h * stride + N_tw\n",
        "            train_i_x_slice = train_i_x[vert_start:vert_end,:]     \n",
        "            train_i_y_slice = train_i_y[vert_end-1,:]              \n",
        "            train_i_x_slice.shape = (N_tw, N_ft, 1)                 \n",
        "            train_i_y_slice.shape = (1, 1)                       \n",
        "            train_x[k-1,:,:] = train_i_x_slice\n",
        "            train_y[k-1,:] = train_i_y_slice\n",
        "     \n",
        "    # Load test data\n",
        "    test_set=np.loadtxt(testPath)\n",
        "    test_set_x_org = test_set[:,sel]                                \n",
        "    test_set_c     = test_set[:,np.array([1])]                      \n",
        "    test_y=np.loadtxt(rulPath)   # Test set RUL (c)\n",
        "    test_y.shape   = (test_y.shape[0], 1)\n",
        "    \n",
        "    # Normalize the data\n",
        "    test_set_x = 2 * (test_set_x_org - lb) / (ub - lb) - 1   \n",
        "    \n",
        "    m_ts, N_en_ts = sliding_window(test_set, N_tw, stride)           \n",
        "    \n",
        "    test_x = np.empty((N_en_ts, N_tw, N_ft, 1), float)\n",
        "    \n",
        "    k = 0\n",
        "    for ii in range(N_en_ts):\n",
        "        engine         = test_set[:,0] == ii+1                      \n",
        "        test_i_x       = test_set_x[engine,:]                       \n",
        "        test_i_x_slice = test_i_x[-N_tw:,:]                         \n",
        "        test_i_x_slice.shape = (N_tw, N_ft, 1)                      \n",
        "        test_x[ii,:,:] = test_i_x_slice\n",
        "    \n",
        "    return train_x, train_y, test_x, test_y"
      ]
    },
    {
      "cell_type": "code",
      "execution_count": null,
      "metadata": {
        "id": "WT3155jqtoiy"
      },
      "outputs": [],
      "source": [
        "N_tw     = 20                                                              \n",
        "R_early  = 125                                                             \n",
        "stride   = 1\n",
        "sel      = np.array([6, 7, 8, 11, 12, 13, 15, 16, 17, 18, 19, 21, 24, 25]) "
      ]
    },
    {
      "cell_type": "code",
      "execution_count": null,
      "metadata": {
        "colab": {
          "base_uri": "https://localhost:8080/"
        },
        "id": "Y9-rxAUWtp-V",
        "outputId": "95f616a3-f473-426f-c296-765a6caa70fd"
      },
      "outputs": [],
      "source": [
        "X_train, Y_train, X_test, Y_test = load_dataset(N_tw, stride, sel, R_early)\n",
        "print (\"number of training examples = \" + str(X_train.shape[0]))\n",
        "print (\"number of test examples = \" + str(X_test.shape[0]))\n",
        "print (\"X_train shape: \" + str(X_train.shape))\n",
        "print (\"Y_train shape: \" + str(Y_train.shape))\n",
        "print (\"X_test shape: \" + str(X_test.shape))\n",
        "print (\"Y_test shape: \" + str(Y_test.shape))"
      ]
    },
    {
      "cell_type": "markdown",
      "metadata": {
        "id": "zhjVjiDNttNJ"
      },
      "source": [
        "### 4.3. Model\n"
      ]
    },
    {
      "cell_type": "code",
      "execution_count": null,
      "metadata": {
        "id": "IPtAolWctwFT"
      },
      "outputs": [],
      "source": [
        "# kernels = [10, 10, 10, 10, 3]\n",
        "\n",
        "# filters = [10, 10, 10, 10, 1]\n",
        "\n",
        "activ = 'relu'"
      ]
    },
    {
      "cell_type": "code",
      "execution_count": null,
      "metadata": {
        "id": "0Sx-wj3zpQHP"
      },
      "outputs": [],
      "source": [
        "def ReshapeLayer(x):\n",
        "    \n",
        "    shape = x.shape\n",
        "    reshape = Reshape((shape[1],shape[2]*shape[3]))(x)\n",
        "    \n",
        "    return reshape"
      ]
    },
    {
      "cell_type": "code",
      "execution_count": null,
      "metadata": {
        "id": "rCgxPbYttyc-"
      },
      "outputs": [],
      "source": [
        "# LSTM + A\n",
        "def LSTM_Model(input_shape, activ, layer, dropout, encoding_dim):\n",
        "    # Autoencoder\n",
        "    # input_autoencoder = Input(shape=input_shape)\n",
        "    # encoded = Dense(encoding_dim, activation='relu')(input_autoencoder)\n",
        "    # decoded = Dense(input_shape[0], activation='linear')(encoded)\n",
        "    # autoencoder = Model(inputs=input_autoencoder, outputs=decoded)\n",
        "\n",
        "    # LSTM com Autoencoder\n",
        "    # X_input = Input(input_shape)\n",
        "    \n",
        "    # encoded_input = autoencoder(X_input)\n",
        "    \n",
        "    X_input = Input(input_shape)\n",
        "    \n",
        "    X = Reshape((input_shape[0], -1))(X_input)\n",
        "    X = LSTM(layer, return_sequences=True, activation=activ, name='lstm0', dropout=dropout)(X)\n",
        "    X = Attention()([X, X])\n",
        "    X = Dense(1, activation='linear', name='RUL')(X)\n",
        "\n",
        "    model = Model(inputs=X_input, outputs=X, name='LSTM_Attention')\n",
        "\n",
        "    return model"
      ]
    },
    {
      "cell_type": "code",
      "execution_count": null,
      "metadata": {
        "id": "tvaCUwy0t1Bs"
      },
      "outputs": [],
      "source": [
        "LSTMAttention = LSTM_Model(X_train.shape[1:], activ, 42, 0, 365)"
      ]
    },
    {
      "cell_type": "code",
      "execution_count": null,
      "metadata": {
        "colab": {
          "base_uri": "https://localhost:8080/",
          "height": 880
        },
        "id": "cnTBjkEQt28k",
        "outputId": "a3ce4f8c-c174-449a-b64c-abadedfce918"
      },
      "outputs": [],
      "source": [
        "LSTMAttention.summary()\n",
        "keras.utils.plot_model(LSTMAttention, show_shapes=True)"
      ]
    },
    {
      "cell_type": "code",
      "execution_count": null,
      "metadata": {
        "id": "jKXl1mGxt4Uc"
      },
      "outputs": [],
      "source": [
        "LSTMAttention.compile(optimizer = keras.optimizers.Adagrad(learning_rate=1e-3), loss = \"mean_squared_error\")  "
      ]
    },
    {
      "cell_type": "code",
      "execution_count": null,
      "metadata": {
        "colab": {
          "base_uri": "https://localhost:8080/"
        },
        "id": "rst-MaJ2t5mM",
        "outputId": "345bd65a-9e43-4d4b-b882-815a69ba101b"
      },
      "outputs": [],
      "source": [
        "print('Learning Rate: ' + str(K.get_value(LSTMAttention.optimizer.lr)))"
      ]
    },
    {
      "cell_type": "code",
      "execution_count": null,
      "metadata": {
        "id": "ywmnNV0Et7AX"
      },
      "outputs": [],
      "source": [
        "class PlotLosses(keras.callbacks.Callback):\n",
        "    def on_train_begin(self, logs={}):\n",
        "        self.i = 0\n",
        "        self.x = []\n",
        "        self.losses = []\n",
        "        self.val_losses = []        \n",
        "        self.fig = plt.figure()        \n",
        "        self.logs = []\n",
        "\n",
        "    def on_epoch_end(self, epoch, logs={}):        \n",
        "        self.logs.append(logs)\n",
        "        self.x.append(self.i)\n",
        "        self.losses.append(logs.get('loss'))\n",
        "        self.val_losses.append(logs.get('val_loss'))\n",
        "        self.i += 1\n",
        "        \n",
        "        clear_output(wait=True)\n",
        "        plt.plot(self.x, np.sqrt(self.losses), label=\"loss\")\n",
        "        plt.plot(self.x, np.sqrt(self.val_losses), label=\"val_loss\")\n",
        "        plt.ylabel('loss - RMSE')\n",
        "        plt.xlabel('epoch')\n",
        "        plt.legend(['train','test'], loc='upper left')\n",
        "        plt.title('model loss')\n",
        "        plt.show();\n",
        "        \n",
        "plot_losses = PlotLosses()"
      ]
    },
    {
      "cell_type": "code",
      "execution_count": null,
      "metadata": {
        "colab": {
          "base_uri": "https://localhost:8080/",
          "height": 489
        },
        "id": "BACMXx4wt8na",
        "outputId": "eebf31cf-ddd4-4bfd-973b-3baebd0ca3c9"
      },
      "outputs": [],
      "source": [
        "rlr = keras.callbacks.ReduceLROnPlateau(monitor=\"val_loss\", patience=3)\n",
        "history = LSTMAttention.fit(X_train, Y_train, epochs = 100, batch_size = 512, shuffle = True, validation_data = (X_test, Y_test), callbacks=[rlr, plot_losses])"
      ]
    },
    {
      "cell_type": "code",
      "execution_count": null,
      "metadata": {
        "id": "9LHh9_VmuANY"
      },
      "outputs": [],
      "source": [
        "import pickle as pk\n",
        "history_path = './CNN_FD002_history.pk'\n",
        "pk.dump(history.history, open(history_path, 'wb'))\n",
        "model_path = os.path.join('CNN_FD002_model.h5')\n",
        "LSTMAttention.save(model_path)"
      ]
    },
    {
      "cell_type": "code",
      "execution_count": null,
      "metadata": {
        "id": "eMhphOuUuBt3"
      },
      "outputs": [],
      "source": [
        "K.set_value(LSTMAttention.optimizer.lr,0.0001)"
      ]
    },
    {
      "cell_type": "code",
      "execution_count": null,
      "metadata": {
        "colab": {
          "base_uri": "https://localhost:8080/",
          "height": 363
        },
        "id": "cksFGravuC8Z",
        "outputId": "156c5aee-e778-41a7-e3c4-146baefed10c"
      },
      "outputs": [],
      "source": [
        "LSTMAttention.fit(X_train, Y_train, epochs = 100, batch_size = 512, validation_data = (X_test, Y_test), callbacks=[plot_losses])"
      ]
    },
    {
      "cell_type": "code",
      "execution_count": null,
      "metadata": {
        "colab": {
          "base_uri": "https://localhost:8080/"
        },
        "id": "-ERUCtGHui4S",
        "outputId": "621edfad-c94f-4528-c41c-dc6fe86206a0"
      },
      "outputs": [],
      "source": [
        "print('Learning Rate: ' + str(K.get_value(LSTMAttention.optimizer.lr)))"
      ]
    },
    {
      "cell_type": "code",
      "execution_count": null,
      "metadata": {
        "id": "a7Zm_ijWu_Th"
      },
      "outputs": [],
      "source": [
        "LSTMAttention.save('FD002-CNN.h5') "
      ]
    },
    {
      "cell_type": "code",
      "execution_count": null,
      "metadata": {
        "id": "efHx35HGvAW1"
      },
      "outputs": [],
      "source": [
        "def score_cal(y_hat, Y_test):\n",
        "    d   = y_hat - Y_test\n",
        "    tmp = np.zeros(d.shape[0])\n",
        "    for i in range(d.shape[0]):\n",
        "        if d[i,0] >= 0:\n",
        "               tmp[i] = np.exp( d[i,0]/10) - 1\n",
        "        else:\n",
        "               tmp[i] = np.exp(-d[i,0]/13) - 1\n",
        "    return tmp "
      ]
    },
    {
      "cell_type": "code",
      "execution_count": null,
      "metadata": {
        "colab": {
          "base_uri": "https://localhost:8080/"
        },
        "id": "xW1uh17pvBde",
        "outputId": "da8d4bea-2133-4437-99b6-e918713279c4"
      },
      "outputs": [],
      "source": [
        "preds = LSTMAttention.evaluate(x = X_train, y = Y_train)\n",
        "print()\n",
        "print (\"Test  MSE = \" + str(preds))\n",
        "print (\"Test RMSE = \" + str(np.sqrt(preds)))"
      ]
    },
    {
      "cell_type": "code",
      "execution_count": null,
      "metadata": {
        "colab": {
          "base_uri": "https://localhost:8080/"
        },
        "id": "YE2YasxTvCn2",
        "outputId": "1fd607aa-5da6-4498-d147-ddbcb9d257b0"
      },
      "outputs": [],
      "source": [
        "y_hat_tr   = LSTMAttention.predict(x = X_train)"
      ]
    },
    {
      "cell_type": "code",
      "execution_count": null,
      "metadata": {
        "id": "CmTXJwJJvJLN"
      },
      "outputs": [],
      "source": [
        "preds = LSTMAttention.evaluate(x = X_test, y = Y_test)\n",
        "print()\n",
        "print (\"MSE = \" + str(preds))\n",
        "print (\"RMSE = \" + str(np.sqrt(preds)))"
      ]
    }
  ],
  "metadata": {
    "accelerator": "TPU",
    "colab": {
      "provenance": []
    },
    "gpuClass": "standard",
    "kernelspec": {
      "display_name": "Python 3 (ipykernel)",
      "language": "python",
      "name": "python3"
    },
    "language_info": {
      "codemirror_mode": {
        "name": "ipython",
        "version": 3
      },
      "file_extension": ".py",
      "mimetype": "text/x-python",
      "name": "python",
      "nbconvert_exporter": "python",
      "pygments_lexer": "ipython3",
      "version": "3.10.9"
    }
  },
  "nbformat": 4,
  "nbformat_minor": 0
}
